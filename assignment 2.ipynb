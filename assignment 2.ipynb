{
 "cells": [
  {
   "cell_type": "markdown",
   "id": "49e5b4b7",
   "metadata": {},
   "source": [
    "# what are the variables in python?"
   ]
  },
  {
   "cell_type": "code",
   "execution_count": 1,
   "id": "32199cc3",
   "metadata": {},
   "outputs": [],
   "source": [
    "list_of_variables=[\"list\",\"tuples\",\"strings\",\"sets\",\"int\",\"float\",\"bool\"]"
   ]
  },
  {
   "cell_type": "code",
   "execution_count": 2,
   "id": "f4263136",
   "metadata": {},
   "outputs": [
    {
     "name": "stdout",
     "output_type": "stream",
     "text": [
      "list\n",
      "tuples\n",
      "strings\n",
      "sets\n",
      "int\n",
      "float\n",
      "bool\n"
     ]
    }
   ],
   "source": [
    "for i in list_of_variables:\n",
    "    print(i)"
   ]
  },
  {
   "cell_type": "markdown",
   "id": "87f77815",
   "metadata": {},
   "source": [
    "# how to convert one data type to another in python"
   ]
  },
  {
   "cell_type": "code",
   "execution_count": 5,
   "id": "a6777701",
   "metadata": {},
   "outputs": [],
   "source": [
    "a=25"
   ]
  },
  {
   "cell_type": "code",
   "execution_count": 6,
   "id": "02743397",
   "metadata": {},
   "outputs": [
    {
     "data": {
      "text/plain": [
       "int"
      ]
     },
     "execution_count": 6,
     "metadata": {},
     "output_type": "execute_result"
    }
   ],
   "source": [
    "type(a)"
   ]
  },
  {
   "cell_type": "code",
   "execution_count": 10,
   "id": "8db927e2",
   "metadata": {},
   "outputs": [],
   "source": [
    "a=str(25)"
   ]
  },
  {
   "cell_type": "code",
   "execution_count": 11,
   "id": "f27afc28",
   "metadata": {},
   "outputs": [
    {
     "data": {
      "text/plain": [
       "'25'"
      ]
     },
     "execution_count": 11,
     "metadata": {},
     "output_type": "execute_result"
    }
   ],
   "source": [
    "a"
   ]
  },
  {
   "cell_type": "code",
   "execution_count": 12,
   "id": "7db3444d",
   "metadata": {},
   "outputs": [
    {
     "data": {
      "text/plain": [
       "str"
      ]
     },
     "execution_count": 12,
     "metadata": {},
     "output_type": "execute_result"
    }
   ],
   "source": [
    "type(a)"
   ]
  },
  {
   "cell_type": "markdown",
   "id": "04080ce9",
   "metadata": {},
   "source": [
    "# Given a list my_list = [1, 2, 3, 4, 5], write the code to slice the list and obtain the sub-list [2, 3]."
   ]
  },
  {
   "cell_type": "code",
   "execution_count": 13,
   "id": "39286599",
   "metadata": {},
   "outputs": [],
   "source": [
    "my_list=[1,2,3,4,5]"
   ]
  },
  {
   "cell_type": "code",
   "execution_count": 15,
   "id": "fc2f1849",
   "metadata": {},
   "outputs": [
    {
     "data": {
      "text/plain": [
       "[2, 3]"
      ]
     },
     "execution_count": 15,
     "metadata": {},
     "output_type": "execute_result"
    }
   ],
   "source": [
    "my_list[1:3]"
   ]
  },
  {
   "cell_type": "markdown",
   "id": "46c3a115",
   "metadata": {},
   "source": [
    "# What is a complex number in mathematics, and how is it represented in Python?"
   ]
  },
  {
   "cell_type": "code",
   "execution_count": 19,
   "id": "2e2a4818",
   "metadata": {},
   "outputs": [],
   "source": [
    "# complex number is the combine of real and imaginary number."
   ]
  },
  {
   "cell_type": "code",
   "execution_count": 20,
   "id": "f1ea9bce",
   "metadata": {},
   "outputs": [],
   "source": [
    "list=4+5j"
   ]
  },
  {
   "cell_type": "code",
   "execution_count": 21,
   "id": "aaa79079",
   "metadata": {},
   "outputs": [
    {
     "data": {
      "text/plain": [
       "complex"
      ]
     },
     "execution_count": 21,
     "metadata": {},
     "output_type": "execute_result"
    }
   ],
   "source": [
    "type(list)"
   ]
  },
  {
   "cell_type": "markdown",
   "id": "a4b4bcba",
   "metadata": {},
   "source": [
    "# What is the correct way to declare a variable named age and assign the value 25 to it?"
   ]
  },
  {
   "cell_type": "code",
   "execution_count": 2,
   "id": "81d23e79",
   "metadata": {},
   "outputs": [
    {
     "name": "stdout",
     "output_type": "stream",
     "text": [
      "enter the age:25\n",
      " age:25\n"
     ]
    }
   ],
   "source": [
    "age=int(input(\"enter the age:\"))\n",
    "print(f\" age:{age}\")"
   ]
  },
  {
   "cell_type": "markdown",
   "id": "98d313fd",
   "metadata": {},
   "source": [
    "# Declare a variable named price and assign the value 9.99 to it. What data type does this variable\n",
    "belong to?"
   ]
  },
  {
   "cell_type": "code",
   "execution_count": 7,
   "id": "b59cda30",
   "metadata": {},
   "outputs": [
    {
     "name": "stdout",
     "output_type": "stream",
     "text": [
      "enter the price:9.99\n",
      " price:9.99\n"
     ]
    }
   ],
   "source": [
    "price=float(input(\"enter the price:\"))\n",
    "print(f\" price:{price}\")"
   ]
  },
  {
   "cell_type": "markdown",
   "id": "df8c14f2",
   "metadata": {},
   "source": [
    "# Create a variable named name and assign your full name to it as a string. How would you print the\n",
    "value of this variable?"
   ]
  },
  {
   "cell_type": "code",
   "execution_count": 1,
   "id": "bb0a87b6",
   "metadata": {},
   "outputs": [
    {
     "name": "stdout",
     "output_type": "stream",
     "text": [
      "enter the full name:Iftikar Sheikh\n",
      "Iftikar Sheikh\n"
     ]
    }
   ],
   "source": [
    "name=input(\"enter the full name:\")\n",
    "print(f\"{name}\")"
   ]
  },
  {
   "cell_type": "markdown",
   "id": "a17210fc",
   "metadata": {},
   "source": [
    "# Given the string \"Hello, World!\", extract the substring \"World\"."
   ]
  },
  {
   "cell_type": "code",
   "execution_count": 3,
   "id": "95233890",
   "metadata": {},
   "outputs": [
    {
     "data": {
      "text/plain": [
       "'World'"
      ]
     },
     "execution_count": 3,
     "metadata": {},
     "output_type": "execute_result"
    }
   ],
   "source": [
    "string1=\"Hello, World!\"\n",
    "string1[7:-1]"
   ]
  },
  {
   "cell_type": "markdown",
   "id": "7000c8d7",
   "metadata": {},
   "source": [
    "# Create a variable named \"is_student\" and assign it a boolean value indicating whether you are\n",
    "currently a student or not."
   ]
  },
  {
   "cell_type": "code",
   "execution_count": 6,
   "id": "128ad8c7",
   "metadata": {},
   "outputs": [
    {
     "name": "stdout",
     "output_type": "stream",
     "text": [
      "currently i'm a working professional not a student: True\n"
     ]
    }
   ],
   "source": [
    "is_student=False\n",
    "print(f\"currently i'm a working professional not a student: {not is_student}\")"
   ]
  },
  {
   "cell_type": "code",
   "execution_count": null,
   "id": "8ee9fed8",
   "metadata": {},
   "outputs": [],
   "source": []
  }
 ],
 "metadata": {
  "kernelspec": {
   "display_name": "Python 3 (ipykernel)",
   "language": "python",
   "name": "python3"
  },
  "language_info": {
   "codemirror_mode": {
    "name": "ipython",
    "version": 3
   },
   "file_extension": ".py",
   "mimetype": "text/x-python",
   "name": "python",
   "nbconvert_exporter": "python",
   "pygments_lexer": "ipython3",
   "version": "3.9.13"
  }
 },
 "nbformat": 4,
 "nbformat_minor": 5
}
